{
 "cells": [
  {
   "cell_type": "markdown",
   "metadata": {},
   "source": [
    "# Broker\n",
    "The connection to a broker instance, creating a basic broker request and retrieving the response from the broker on this request is demonstrated in this notebook"
   ]
  },
  {
   "cell_type": "markdown",
   "metadata": {},
   "source": [
    "First a broker connection is defined"
   ]
  },
  {
   "cell_type": "code",
   "execution_count": 1,
   "metadata": {},
   "outputs": [],
   "source": [
    "from textexploration import broker as b\n",
    "broker = b.Broker(\"http://textexploration.localhost/broker/search/\")"
   ]
  },
  {
   "cell_type": "markdown",
   "metadata": {},
   "source": [
    "If required, an access key can be provided"
   ]
  },
  {
   "cell_type": "code",
   "execution_count": 2,
   "metadata": {},
   "outputs": [],
   "source": [
    "broker.set_key(\"pqZFBy6N3T8r37HXM7ivvmpBP7mHUNtG\")"
   ]
  },
  {
   "cell_type": "markdown",
   "metadata": {},
   "source": [
    "## Request and Response\n",
    "Now, requests can be defined"
   ]
  },
  {
   "cell_type": "code",
   "execution_count": 3,
   "metadata": {},
   "outputs": [],
   "source": [
    "request = b.Request()"
   ]
  },
  {
   "cell_type": "markdown",
   "metadata": {},
   "source": [
    "and sent to the broker, resulting in a response"
   ]
  },
  {
   "cell_type": "code",
   "execution_count": 4,
   "metadata": {},
   "outputs": [
    {
     "data": {
      "text/plain": [
       "Broker Response\n",
       "- documents: 10 from 5905, starting at 0"
      ]
     },
     "execution_count": 4,
     "metadata": {},
     "output_type": "execute_result"
    }
   ],
   "source": [
    "broker.do_request(request)"
   ]
  },
  {
   "cell_type": "markdown",
   "metadata": {},
   "source": [
    "## Raw request\n",
    "Instead of using a request object, also directly sending JSON is allowed"
   ]
  },
  {
   "cell_type": "code",
   "execution_count": 5,
   "metadata": {},
   "outputs": [
    {
     "data": {
      "text/plain": [
       "Broker Response\n",
       "- documents: 5 from 5905, starting at 0"
      ]
     },
     "execution_count": 5,
     "metadata": {},
     "output_type": "execute_result"
    }
   ],
   "source": [
    "raw_request = {\n",
    "  \"response\": {\n",
    "    \"documents\": {\n",
    "      \"start\": 0,\n",
    "      \"rows\": 5,\n",
    "      \"fields\": [\n",
    "        \"versionId\"\n",
    "      ]\n",
    "    }\n",
    "  }\n",
    "}\n",
    "response = broker.do_request(raw_request)\n",
    "response"
   ]
  },
  {
   "cell_type": "markdown",
   "metadata": {},
   "source": [
    "## Raw response\n",
    "Also the raw response is available"
   ]
  },
  {
   "cell_type": "code",
   "execution_count": 6,
   "metadata": {},
   "outputs": [
    {
     "data": {
      "text/plain": [
       "{'response': {'numFound': 5905,\n",
       "  'start': 0,\n",
       "  'maxScore': 1,\n",
       "  'docs': [{'versionId': 'e6a7cd11-36d3-494a-b131-eadeb2df77c4'},\n",
       "   {'versionId': '447616c5-ee0d-4404-a987-73c4b43630ee'},\n",
       "   {'versionId': '3ff23fa9-3203-4172-98ec-93640c54ed62'},\n",
       "   {'versionId': 'fc2182e1-7e39-4045-adac-00f4bb26a4a3'},\n",
       "   {'versionId': 'c0c9b081-d8ae-4eb1-9fc2-f43486ab17f2'}]}}"
      ]
     },
     "execution_count": 6,
     "metadata": {},
     "output_type": "execute_result"
    }
   ],
   "source": [
    "response.raw()"
   ]
  }
 ],
 "metadata": {
  "kernelspec": {
   "display_name": "Python 3",
   "language": "python",
   "name": "python3"
  },
  "language_info": {
   "codemirror_mode": {
    "name": "ipython",
    "version": 3
   },
   "file_extension": ".py",
   "mimetype": "text/x-python",
   "name": "python",
   "nbconvert_exporter": "python",
   "pygments_lexer": "ipython3",
   "version": "3.6.7"
  }
 },
 "nbformat": 4,
 "nbformat_minor": 2
}
